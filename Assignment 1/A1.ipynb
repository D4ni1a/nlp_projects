{
 "cells": [
  {
   "cell_type": "markdown",
   "metadata": {
    "id": "RKboZnAdgrRM"
   },
   "source": [
    "# [NLP] Assignment 1: Tokenization\n",
    "\n",
    "In this assignment, you need to tokenize the text of the Twitter(X) users posts(tweets). The assignment consists of two tasks. When you finish all the tasks, create a GitHub repository for this assignment (you can use this repo later for the other assignments) and submit this notebook in the repository. Leave `requirements.txt` file if your code requires additional installations. Submit the link to the repository in Moodle.\n",
    "\n",
    "The [data](https://drive.google.com/file/d/15x_wPAflvYQ2Xh38iNQGrqUIWLj5l5Nw/view?usp=share_link) contains 5 files whereby each contains 44 tweets. Each tweet is separated by a newline."
   ]
  },
  {
   "cell_type": "markdown",
   "metadata": {
    "id": "aLDjjAvemUP_"
   },
   "source": [
    "## Task 1. Tokenize some tweets manually (20 points)\n",
    "\n",
    "As a first task you need to tokenize first 15 tweets from `file2` by hand. This will allow you to understand the problem from a linguistic point of view. The guidelines for tweet tokenization are as follows:\n",
    "\n",
    "- Each smiley is a separate token\n",
    "- Each hashtag is an individual token. Each user reference is an individual token\n",
    "- If a word has spaces between them then it is converted to a single token\n",
    "- All punctuations are individual tokens. This includes double-quotes and single quotes also\n",
    "- A URL is a single token\n",
    "\n",
    "Example of output\n",
    "\n",
    "    Input tweet\n",
    "    @xfranman Old age has made N A T O!\n",
    "\n",
    "    Tokenized tweet (separated by comma)\n",
    "    @xfranman , Old , age , has , made , NATO , !"
   ]
  },
  {
   "cell_type": "code",
   "execution_count": 237,
   "metadata": {
    "id": "GY8Ch3MVYSdb"
   },
   "outputs": [],
   "source": [
    "# !pip freeze > requirements.txt"
   ]
  },
  {
   "cell_type": "code",
   "execution_count": null,
   "metadata": {
    "id": "fIpOzaH8EPQ3"
   },
   "outputs": [],
   "source": [
    "# !pip install gdown==4.6.3"
   ]
  },
  {
   "cell_type": "code",
   "execution_count": 1,
   "metadata": {
    "id": "6T2YngX6rROR"
   },
   "outputs": [],
   "source": [
    "import gdown\n",
    "import zipfile\n",
    "import warnings\n",
    "import re, collections\n",
    "\n",
    "warnings.filterwarnings('ignore')"
   ]
  },
  {
   "cell_type": "code",
   "execution_count": 2,
   "metadata": {
    "colab": {
     "base_uri": "https://localhost:8080/",
     "height": 105
    },
    "id": "GXZu_KnsEbXt",
    "outputId": "a9fb059a-af6b-492a-8005-a7616afc3078"
   },
   "outputs": [
    {
     "name": "stderr",
     "output_type": "stream",
     "text": [
      "Downloading...\n",
      "From: https://drive.google.com/uc?id=15x_wPAflvYQ2Xh38iNQGrqUIWLj5l5Nw\n",
      "To: /content/Assignment1_data.zip\n",
      "100%|██████████| 15.6k/15.6k [00:00<00:00, 11.4MB/s]\n"
     ]
    },
    {
     "data": {
      "application/vnd.google.colaboratory.intrinsic+json": {
       "type": "string"
      },
      "text/plain": [
       "'./Assignment1_data.zip'"
      ]
     },
     "execution_count": 2,
     "metadata": {},
     "output_type": "execute_result"
    }
   ],
   "source": [
    "# Loading data\n",
    "url = \"https://drive.google.com/uc?id=15x_wPAflvYQ2Xh38iNQGrqUIWLj5l5Nw\"\n",
    "\n",
    "output = \"./Assignment1_data.zip\"\n",
    "gdown.download(url, output, quiet=False)"
   ]
  },
  {
   "cell_type": "code",
   "execution_count": 3,
   "metadata": {
    "id": "tadEDgpjEo_6"
   },
   "outputs": [],
   "source": [
    "path_file = './Assignment1_data.zip'\n",
    "output_dir = './Assignment1_data/'\n",
    "\n",
    "with zipfile.ZipFile(path_file, 'r') as zip_ref:\n",
    "    zip_ref.extractall(output_dir)"
   ]
  },
  {
   "cell_type": "code",
   "execution_count": 139,
   "metadata": {
    "colab": {
     "base_uri": "https://localhost:8080/"
    },
    "id": "S0ejBOWIEwGn",
    "outputId": "cf478ad1-727c-4937-d32a-8b10259e4152"
   },
   "outputs": [
    {
     "name": "stdout",
     "output_type": "stream",
     "text": [
      "Camping in Maine for the weekend. Hey Dad, Mama Loves YOU: http://www.mamapalooza.com\n",
      "\n",
      "Its american tradition bitch\n",
      "\n",
      "@ThroughTheVoid They love it! The only pleasure they get in life. I actually do that. I'm sure I hear a tiny squeak... Then louder ones\n",
      "\n",
      "\" RT @latti: @AbsoHilare stop tweeting in church! Lol <--- \"\"I tweet because I'm happy, I tweet because I'm free\"\" LOL!\"\n",
      "\n",
      "Samsung Mini S2 portable HDD graced with colors that perfectly match your tacky beach gear: Sammy's done it aga.. http://tinyurl.com/lb5p6m\n",
      "\n",
      "@dialloc congrats on finding your way over. it may be slow going at first. hang in there. it's kinda cool when u get up to speed.\n",
      "\n",
      "iPhone activation delays continue, Apple offers $30 http://twt.gs/l3Ki\n",
      "\n",
      "RT @GoogleAtWork Gmail maximum attachment size now 25MB http://bit.ly/62mjw Nice!!!\n",
      "\n",
      "RT @acfou The Ads Won Awards for Crispin; But Did Nothing for Client BurgerKing's Sales/Marketshare - Big Surprise - http://ping.fm/vw8TI\n",
      "\n",
      "Hey doll! Great I missed True Blood yday boo lol Rt @FrankBanuat78 @jhillstephens Hello Sunshine how are u today? :-)\n",
      "\n",
      "Australian artist Pogo made these free songs primarily from sampled audio from Alice In Wonderland. http://www.last.fm/music/Pogo/Wonderland\n",
      "\n",
      "@mppritchard they wanted to sell all the preorders & then sell all of the ones they had in stock to those that just walked in. Can't do both\n",
      "\n",
      "Incoming: Frightened Rabbit, Sept. 22 (Tucson): If Fat Cat Records is going to send three great bands from Scot.. http://tinyurl.com/nz6xcv\n",
      "\n",
      "Hey @ginoandfran please greet philip! (GinoandFran live > http://ustre.am/2YyQ)\n",
      "\n",
      "Ik weet niet wie er achter de T-Mobile iPhone Twitter zit maar ik vind het niet echt 'corporate' taalgebruik... Best vreemd eigenlijk\n",
      "\n"
     ]
    }
   ],
   "source": [
    "sentences = open(output_dir + 'file2', 'r').readlines()[:15]\n",
    "for sentence in sentences:\n",
    "    print(sentence)"
   ]
  },
  {
   "cell_type": "markdown",
   "metadata": {
    "id": "7KKKwTidnzUw"
   },
   "source": [
    "\n",
    "    1. Input tweet\n",
    "    Camping in Maine for the weekend. Hey Dad, Mama Loves YOU: http://www.mamapalooza.com\n",
    "    1. Tokenized tweet\n",
    "    Camping , in , Maine , for , the , weekend , . , Hey , Dad , , , Mama , Loves , YOU , : , http://www.mamapalooza.com\n",
    "\n",
    "    2. Input tweet\n",
    "    Its american tradition bitch\n",
    "    2. Tokenized tweet\n",
    "    Its , american , tradition , bitch\n",
    "\n",
    "    3. Input tweet\n",
    "    @ThroughTheVoid They love it! The only pleasure they get in life. I actually do that. I'm sure I hear a tiny squeak... Then louder ones\n",
    "    3. Tokenized tweet\n",
    "    @ThroughTheVoid , They , love , it , ! , The , only , pleasure , they , get , in , life , . , I , actually , do , that , . , I , ' , m , sure , I , hear , a , tiny , squeak , . , . , . , Then , louder , ones\n",
    "\n",
    "    4. Input tweet\n",
    "    \" RT @latti: @AbsoHilare stop tweeting in church! Lol <--- \"\"I tweet because I'm happy, I tweet because I'm free\"\" LOL!\"\n",
    "    4. Tokenized tweet\n",
    "    \" , RT , @latti , : , @AbsoHilare , stop , tweeting , in , church , ! , Lol , < , - , - , - , \" , \" , I , tweet , because , I , ' , m , happy , , , I , tweet , because , I , ' , m , free , \" , \" , LOL , ! , \"\n",
    "\n",
    "    5. Input tweet\n",
    "    Samsung Mini S2 portable HDD graced with colors that perfectly match your tacky beach gear: Sammy's done it aga.. http://tinyurl.com/lb5p6m\n",
    "    5. Tokenized tweet\n",
    "    Samsung , Mini , S2 , portable , HDD , graced , with , colors , that , perfectly , match , your , tacky , beach , gear , : , Sammy , ' , s , done , it , aga , . , . , http://tinyurl.com/lb5p6m\n",
    "\n",
    "    6. Input tweet\n",
    "    @dialloc congrats on finding your way over. it may be slow going at first. hang in there. it's kinda cool when u get up to speed.\n",
    "    6. Tokenized tweet\n",
    "    @dialloc , congrats , on , finding , your , way , over , . , it , may , be , slow , going , at , first , . , hang , in , there , . , it , ' , s , kinda , cool , when , u , get , up , to , speed , .\n",
    "\n",
    "    7. Input tweet\n",
    "    iPhone activation delays continue, Apple offers $30 http://twt.gs/l3Ki\n",
    "    7. Tokenized tweet\n",
    "    iPhone , activation , delays , continue , , , Apple , offers , $ , 30 , http://twt.gs/l3Ki\n",
    "\n",
    "    8. Input tweet\n",
    "    RT @GoogleAtWork Gmail maximum attachment size now 25MB http://bit.ly/62mjw Nice!!!\n",
    "    8. Tokenized tweet\n",
    "    RT , @GoogleAtWork , Gmail , maximum , attachment , size , now , 25 , MB , http://bit.ly/62mjw , Nice , ! , ! , !\n",
    "\n",
    "    9. Input tweet\n",
    "    RT @acfou The Ads Won Awards for Crispin; But Did Nothing for Client BurgerKing's Sales/Marketshare - Big Surprise - http://ping.fm/vw8TI\n",
    "    9. Tokenized tweet\n",
    "    RT , @acfou , The , Ads , Won , Awards , for , Crispin , ; , But , Did , Nothing , for , Client , Burger , King , ' , s , Sales , / , Marketshare , - , Big , Surprise , - , http://ping.fm/vw8TI\n",
    "\n",
    "    10. Input tweet\n",
    "    Hey doll! Great I missed True Blood yday boo lol Rt @FrankBanuat78 @jhillstephens Hello Sunshine how are u today? :-)\n",
    "    10. Tokenized tweet\n",
    "    Hey , doll , ! , Great , I , missed , True , Blood , yday , boo , lol , Rt , @FrankBanuat78 , @jhillstephens , Hello , Sunshine , how , are , u , today , ? , :-)\n",
    "\n",
    "    11. Input tweet\n",
    "    Australian artist Pogo made these free songs primarily from sampled audio from Alice In Wonderland. http://www.last.fm/music/Pogo/Wonderland\n",
    "    11. Tokenized tweet\n",
    "    Australian , artist , Pogo , made , these , free , songs , primarily , from , sampled , audio , from , Alice , In , Wonderland , . , http://www.last.fm/music/Pogo/Wonderland\n",
    "\n",
    "    12. Input tweet\n",
    "    @mppritchard they wanted to sell all the preorders & then sell all of the ones they had in stock to those that just walked in. Can't do both\n",
    "    12. Tokenized tweet\n",
    "    @mppritchard , they , wanted , to , sell , all , the , preorders , & , then , sell , all , of , the , ones , they , had , in , stock , to , those , that , just , walked , in , . , Can , ' , t , do , both\n",
    "\n",
    "    13. Input tweet\n",
    "    Incoming: Frightened Rabbit, Sept. 22 (Tucson): If Fat Cat Records is going to send three great bands from Scot.. http://tinyurl.com/nz6xcv\n",
    "    13. Tokenized tweet\n",
    "    Incoming , : , Frightened , Rabbit , , , Sept , . , 22 , ( , Tucson , ) , : , If , Fat , Cat , Records , is , going , to , send , three , great , bands , from , Scot , . , . , http://tinyurl.com/nz6xcv\n",
    "\n",
    "    14. Input tweet\n",
    "    Hey @ginoandfran please greet philip! (GinoandFran live > http://ustre.am/2YyQ)\n",
    "    14. Tokenized tweet\n",
    "    Hey , @ginoandfran , please , greet , philip , ! , ( , GinoandFran , live , > , http://ustre.am/2YyQ , )\n",
    "\n",
    "    15. Input tweet\n",
    "    Ik weet niet wie er achter de T-Mobile iPhone Twitter zit maar ik vind het niet echt 'corporate' taalgebruik... Best vreemd eigenlijk\n",
    "    15. Tokenized tweet\n",
    "    Ik , weet , niet , wie , er , achter , de , T-Mobile , iPhone , Twitter , zit , maar , ik , vind , het , niet , echt , ' , corporate , ' , taalgebruik , . , . , . , Best , vreemd , eigenlijk"
   ]
  },
  {
   "cell_type": "markdown",
   "metadata": {
    "id": "-2J2AD2nmUhi"
   },
   "source": [
    "## Task 2. Implement [Byte-Pair Encoding(BPE)](https://arxiv.org/pdf/1508.07909.pdf) Tokenizer (80 points)\n",
    "\n",
    "### Task 2.1. Implementation (60 points)\n",
    "\n",
    "Implement the tokenizer as the BPETokenizer class:\n",
    "* Implement `train` method that learns merges and builds the vocabulary of the specified `vocab_size` (25 points).\n",
    "* Implement `tokenize` method that should tokenize the text according to the learnt merges (25 points).\n",
    "\n",
    "Your code should have docstrings and comments (10 points)."
   ]
  },
  {
   "cell_type": "code",
   "execution_count": 231,
   "metadata": {
    "id": "-n8Wbv0SqL_q"
   },
   "outputs": [],
   "source": [
    "from typing import List\n",
    "import string\n",
    "\n",
    "# Code snippets from BPE was found at\n",
    "# https://arxiv.org/pdf/1508.07909.pdf\n",
    "\n",
    "# Here I considered spaces as part of token and\n",
    "# replaced it by special symbol \"Ġ\"\n",
    "\n",
    "class BPETokenizer:\n",
    "    def __init__(self, vocab_size: int) -> None:\n",
    "        \"\"\"\n",
    "        Initializing tokenizer\n",
    "\n",
    "        :param vocab_size: size of vocabulary list\n",
    "        \"\"\"\n",
    "        self.vocab_size = vocab_size\n",
    "\n",
    "        # Mapping unmerged symbols to merged ones\n",
    "        self.transfers = collections.defaultdict(int)\n",
    "\n",
    "        # Frequency of words occurrence in the training set\n",
    "        self.freq = collections.defaultdict(int)\n",
    "\n",
    "        # Vocabulary list\n",
    "        self.vocab = []\n",
    "\n",
    "        # Special symbol for spaces replacement\n",
    "        self.separator = 'Ġ'\n",
    "\n",
    "        # List of punctuation\n",
    "        self.punct_list = string.punctuation\n",
    "\n",
    "    def get_stats(self, frequies):\n",
    "        \"\"\"\n",
    "        Calculating frequency of occurrence of sub-grams\n",
    "\n",
    "        :param frequies: Dictionary of word's sub-grams as keys and frequency as value\n",
    "        :return: Updated frequency dictionary\n",
    "        \"\"\"\n",
    "        pairs = collections.defaultdict(int)\n",
    "        for word, freq in frequies.items():\n",
    "            symbols = word.split()\n",
    "\n",
    "            # Consider pairs of sub-grams\n",
    "            for i in range(len(symbols)-1):\n",
    "                pairs[symbols[i],symbols[i+1]] += freq\n",
    "        return pairs\n",
    "\n",
    "    def merge_vocab(self, pair, v_in):\n",
    "        \"\"\"\n",
    "        Merging of sub-grams within frequency dictionary\n",
    "\n",
    "        :param pair: Pair of sub-grams to be merged\n",
    "        :param v_in: Old frequency dictionary\n",
    "        :return: Updated frequency dictionary\n",
    "        \"\"\"\n",
    "        v_out = {}\n",
    "        bigram = re.escape(' '.join(pair))\n",
    "        p = re.compile(r'(?<!\\S)' + bigram + r'(?!\\S)')\n",
    "\n",
    "        # Searching for sub-grams, which should be merged toghether\n",
    "        for word in v_in:\n",
    "            w_out = p.sub(''.join(pair), word)\n",
    "            v_out[w_out] = v_in[word]\n",
    "\n",
    "        # Adding to marge dictionary which sub-grams was merged to which form\n",
    "        self.transfers[pair] = ''.join(pair)\n",
    "        return v_out\n",
    "\n",
    "    def base_tokenize(self, sentence: str) -> list:\n",
    "        \"\"\"\n",
    "        Simple custom tokenizer\n",
    "\n",
    "        :param sentence: Sentence to be tokenized\n",
    "        :return: List of tokens\n",
    "        \"\"\"\n",
    "        tokens = []\n",
    "        word = ''\n",
    "        flag = False\n",
    "        for symbol in sentence:\n",
    "            if symbol not in self.vocab:\n",
    "                # Append each new symbol to vocabulary\n",
    "                self.vocab.append(symbol)\n",
    "\n",
    "            if symbol in self.punct_list:\n",
    "                # Punctuation symbols are append separately\n",
    "                if len(word) != 0:\n",
    "                    tokens.append(word)\n",
    "                word = symbol\n",
    "                flag = True\n",
    "            elif symbol == ' ':\n",
    "                # Spaces should be replaced by special symbol\n",
    "                word += self.separator\n",
    "                tokens.append(word)\n",
    "                word = ''\n",
    "                flag = False\n",
    "            else:\n",
    "                # Other symbols should be considered toghether until space or punctuation met\n",
    "                if flag:\n",
    "                    tokens.append(word)\n",
    "                    word = symbol\n",
    "                    flag = False\n",
    "                else:\n",
    "                    word += symbol\n",
    "        tokens.append(word)\n",
    "        return tokens\n",
    "\n",
    "    def train(self, corpus: List[str], flag = True) -> None:\n",
    "        \"\"\"\n",
    "        Training tokenizer on train set\n",
    "\n",
    "        :param corpus: List of sentence form training set\n",
    "        :param flag: Only for base vocab size\n",
    "        \"\"\"\n",
    "        for sentense in corpus:\n",
    "            if len(self.vocab) == self.vocab_size:\n",
    "                # Limit the size of vocabulary\n",
    "                break\n",
    "            # Use custom tokenizer and split each token on characters\n",
    "            base_tokens = self.base_tokenize(sentense)\n",
    "            spare_tokens = [' '.join(token) for token in base_tokens]\n",
    "\n",
    "            # Calculate base frequency\n",
    "            for token in spare_tokens:\n",
    "                self.freq[token] += 1\n",
    "                if len(self.vocab) == self.vocab_size:\n",
    "                    # Limit the size of vocabulary\n",
    "                    break\n",
    "        if flag:\n",
    "            # If base size vocab is not required\n",
    "            while len(self.vocab) < self.vocab_size:\n",
    "                # Limit the size of vocabulary\n",
    "                pairs = self.get_stats(self.freq)\n",
    "                if len(pairs) == 0:\n",
    "                    break\n",
    "                # Merge pairs of sub-grams with highest frequency\n",
    "                best = max(pairs, key=pairs.get)\n",
    "                self.vocab.append(\"\".join(best))\n",
    "                self.freq = self.merge_vocab(best, self.freq)\n",
    "\n",
    "    def tokenize(self, text: str) -> List[str]:\n",
    "        \"\"\"\n",
    "        BPE text tokenizer\n",
    "\n",
    "        :param text: String text\n",
    "        :return: List of tokens\n",
    "        \"\"\"\n",
    "        # Replace spaces by separator\n",
    "        output = list(text.replace(' ', self.separator))\n",
    "        for a, b in self.transfers:\n",
    "            i = 0\n",
    "            while i < len(output) - 1:\n",
    "                # Using merge dictionary to merge sub-grams\n",
    "                if a == output[i] and b == output[i+1]:\n",
    "                    output[i] = self.transfers[(a,b)]\n",
    "                    del output[i + 1]\n",
    "                i += 1\n",
    "        return list(output)"
   ]
  },
  {
   "cell_type": "markdown",
   "metadata": {
    "id": "70jgSoFiqL_r"
   },
   "source": [
    "### Task 2.2. Analysis on Tweets Dataset (10 points)\n",
    "\n",
    "Train the BPE tokenizer on the tweets dataset. Try to tokenize the tweets with the tokenizer of different `vocab_size`. For example, train the BPE tokenizer with `vocab_size` of [base_vocab_size, 250, 500, 750, 1000]. Plot the dependency of the average length of the tokenized tweet by `vocab_size` to analyze how `vocab_size` affects the length of the tokenized tweet on average. Tell what `vocab_size` is preferrable and why."
   ]
  },
  {
   "cell_type": "code",
   "execution_count": 232,
   "metadata": {
    "colab": {
     "base_uri": "https://localhost:8080/"
    },
    "id": "O25aRCs6qL_r",
    "outputId": "8d5fc52d-417a-40cd-ee77-7844b09db33a"
   },
   "outputs": [
    {
     "name": "stdout",
     "output_type": "stream",
     "text": [
      "Size: 0, avg tokens: 94.93333333333334\n",
      "Size: 250, avg tokens: 63.8\n",
      "Size: 500, avg tokens: 52.62222222222222\n",
      "Size: 750, avg tokens: 49.62222222222222\n",
      "Size: 1000, avg tokens: 48.111111111111114\n",
      "Size: 1500, avg tokens: 46.37777777777778\n"
     ]
    }
   ],
   "source": [
    "all_sentences = []\n",
    "\n",
    "# Extract all tweets from 5 files\n",
    "for i in range(1, 6):\n",
    "    sentences = open(output_dir + 'file' + str(i), 'r').read().split('\\n')\n",
    "    all_sentences += sentences\n",
    "\n",
    "# Perform train/test split\n",
    "ratio = 0.8\n",
    "sent_len = int(len(all_sentences)*ratio)\n",
    "train, test = all_sentences[:sent_len], all_sentences[sent_len:]\n",
    "\n",
    "avg_len = []\n",
    "tokens_num = [0, 250, 500, 750, 1000, 1500] # 0 is for base vocab size\n",
    "for i, num in enumerate(tokens_num):\n",
    "    tokens_len = 0\n",
    "    # Train tokenizer on train set\n",
    "    if num == 0:\n",
    "        tok = BPETokenizer(10000)\n",
    "        tok.train(train, flag = False)\n",
    "    else:\n",
    "        tok = BPETokenizer(num)\n",
    "        tok.train(train, flag = True)\n",
    "\n",
    "    # Calculate avg number of tokens in sentences from test set\n",
    "    for sent in test:\n",
    "        tokens = tok.tokenize(sent)\n",
    "        tokens_len += len(tokens)\n",
    "    tokens_len /= len(test)\n",
    "    avg_len.append(tokens_len)\n",
    "    print(f\"Size: {num}, avg tokens: {tokens_len}\")"
   ]
  },
  {
   "cell_type": "code",
   "execution_count": 233,
   "metadata": {
    "colab": {
     "base_uri": "https://localhost:8080/",
     "height": 472
    },
    "id": "l5Gy54Mk_rA8",
    "outputId": "c4a54aa1-2f8b-4294-95c5-0ec1e8c8d369"
   },
   "outputs": [
    {
     "data": {
      "image/png": "[encoded data removed]",
      "text/plain": [
       "<Figure size 640x480 with 1 Axes>"
      ]
     },
     "metadata": {},
     "output_type": "display_data"
    }
   ],
   "source": [
    "import matplotlib.pyplot as plt\n",
    "\n",
    "plt.plot(tokens_num, avg_len)\n",
    "plt.title(\"Average length of the tokenized tweet\")\n",
    "plt.xlabel(\"Vocabulary size\")\n",
    "plt.ylabel(\"Average number of tokens\")\n",
    "plt.grid()\n",
    "plt.show()"
   ]
  },
  {
   "cell_type": "markdown",
   "metadata": {
    "id": "tqAcde7SamGU"
   },
   "source": [
    "### Answer:\n",
    "As the result with growth of vocab size the average number of tokens in sentences decreses. It was expected, as now vocabulary may contain longer tokens from train set.\n",
    "\n",
    "As far as avg number of tokens after around 750 vocab size will not decrease significantly and time for training procedure is still quite high in comparison with larger vocab sizes, it may be more preferable to have vocab size around 750."
   ]
  },
  {
   "cell_type": "markdown",
   "metadata": {
    "id": "ZbNQ9RVYqL_s"
   },
   "source": [
    "### Task 2.3. Analysis on Dataset of Different Language (10 points)\n",
    "\n",
    "Find a small dataset of texts in a language other than English. The dataset size should be not greater than several megabytes.\n",
    "\n",
    "Train the BPE tokenizer on the dataset that you found. Try to tokenize the sentences from this dataset with the tokenizer of different `vocab_size`. Plot the dependency of the average length of the tokenized sentence by `vocab_size` to analyze how `vocab_size` affects the length of the tokenized sentence on average.\n",
    "\n",
    "Tell how how the average length of the tokenized sentence differs from the average length of the tokenized tweet. Explain why."
   ]
  },
  {
   "cell_type": "code",
   "execution_count": 234,
   "metadata": {
    "id": "1PFHl3niqL_s"
   },
   "outputs": [],
   "source": [
    "import urllib.request\n",
    "import pandas as pd\n",
    "\n",
    "# For analysis I used sentences from Russian dataset RuDSI\n",
    "# https://github.com/kategavrishina/RuDSI/tree/main/data\n",
    "\n",
    "url = \"https://raw.githubusercontent.com/kategavrishina/RuDSI/main/data/%D1%80%D0%B0%D0%B1%D0%BE%D1%82%D0%B0/uses.csv\"\n",
    "urllib.request.urlretrieve(url, \"./work.csv\")\n",
    "url = \"https://raw.githubusercontent.com/kategavrishina/RuDSI/main/data/%D0%B3%D0%BE%D1%80%D0%BE%D0%B4/uses.csv\"\n",
    "urllib.request.urlretrieve(url, \"./city.csv\")\n",
    "url = \"https://raw.githubusercontent.com/kategavrishina/RuDSI/main/data/%D1%87%D0%B5%D0%BB%D0%BE%D0%B2%D0%B5%D0%BA/uses.csv\"\n",
    "urllib.request.urlretrieve(url, \"./human.csv\")\n",
    "url = \"https://raw.githubusercontent.com/kategavrishina/RuDSI/main/data/%D0%B2%D1%80%D0%B5%D0%BC%D1%8F/uses.csv\"\n",
    "urllib.request.urlretrieve(url, \"./time.csv\")\n",
    "\n",
    "sent_1 = pd.read_csv(\"./work.csv\", sep='\\t')['context'].to_list()\n",
    "sent_2 = pd.read_csv(\"./city.csv\", sep='\\t')['context'].to_list()\n",
    "sent_3 = pd.read_csv(\"./human.csv\", sep='\\t')['context'].to_list()\n",
    "sent_4 = pd.read_csv(\"./time.csv\", sep='\\t')['context'].to_list()\n",
    "all_sentences = sent_1 + sent_2 + sent_3 + sent_4"
   ]
  },
  {
   "cell_type": "code",
   "execution_count": 235,
   "metadata": {
    "colab": {
     "base_uri": "https://localhost:8080/"
    },
    "id": "UruuAX_2JIBA",
    "outputId": "e3e0c977-a215-4813-c99b-c5cdaeea1238"
   },
   "outputs": [
    {
     "name": "stdout",
     "output_type": "stream",
     "text": [
      "Size: 0, avg tokens: 168.03571428571428\n",
      "Size: 250, avg tokens: 98.07142857142857\n",
      "Size: 500, avg tokens: 84.10714285714286\n",
      "Size: 750, avg tokens: 78.25\n",
      "Size: 1000, avg tokens: 75.21428571428571\n",
      "Size: 1500, avg tokens: 71.82142857142857\n"
     ]
    }
   ],
   "source": [
    "# Perform train/test split\n",
    "ratio = 0.8\n",
    "sent_len = int(len(all_sentences)*ratio)\n",
    "train, test = all_sentences[:sent_len], all_sentences[sent_len:]\n",
    "\n",
    "avg_len = []\n",
    "tokens_num = [0, 250, 500, 750, 1000, 1500] # 0 is for base vocab size\n",
    "for i, num in enumerate(tokens_num):\n",
    "    tokens_len = 0\n",
    "    # Train tokenizer on train set\n",
    "    if num == 0:\n",
    "        tok = BPETokenizer(10000)\n",
    "        tok.train(train, flag = False)\n",
    "    else:\n",
    "        tok = BPETokenizer(num)\n",
    "        tok.train(train, flag = True)\n",
    "\n",
    "    # Calculate avg number of tokens in sentences from test set\n",
    "    for sent in test:\n",
    "        tokens = tok.tokenize(sent)\n",
    "        tokens_len += len(tokens)\n",
    "    tokens_len /= len(test)\n",
    "    avg_len.append(tokens_len)\n",
    "    print(f\"Size: {num}, avg tokens: {tokens_len}\")"
   ]
  },
  {
   "cell_type": "code",
   "execution_count": 238,
   "metadata": {
    "colab": {
     "base_uri": "https://localhost:8080/",
     "height": 472
    },
    "id": "epPmAJboJWRL",
    "outputId": "7dc4e8b5-8cf9-40c2-ce95-a7b0c71f5825"
   },
   "outputs": [
    {
     "data": {
      "image/png": "[encoded data removed]",
      "text/plain": [
       "<Figure size 640x480 with 1 Axes>"
      ]
     },
     "metadata": {},
     "output_type": "display_data"
    }
   ],
   "source": [
    "plt.plot(tokens_num, avg_len)\n",
    "plt.title(\"Average length of the tokenized sentence\")\n",
    "plt.xlabel(\"Vocabulary size\")\n",
    "plt.ylabel(\"Average number of tokens\")\n",
    "plt.grid()\n",
    "plt.show()"
   ]
  },
  {
   "cell_type": "markdown",
   "metadata": {
    "id": "TavRFoQJbhBc"
   },
   "source": [
    "### Answer:\n",
    "As the result with growth of vocab size the average number of tokens in sentences decreses. It was expected, as now vocabulary may contain longer tokens from train set.\n",
    "\n",
    "As far as avg number of tokens after around 750 vocab size will not decrease significantly and time for training procedure is still quite high in comparison with larger vocab sizes, it may be more preferable to have vocab size around 750.\n",
    "\n",
    "The results are pretty same as for Tweets dataset, but for Russian dataset is larger avg number of tokens, which may happen as Russian language have more characters, than English. Also, the length of sentences is a bit longer for Russian dataset."
   ]
  },
  {
   "cell_type": "markdown",
   "metadata": {
    "id": "za5A89ZScjFU"
   },
   "source": [
    "## References:\n",
    "\n",
    "[1] - R. Sennrich, B. Haddow, and A. Birch, “Neural machine translation of rare words with subword units,” arXiv [cs.CL], 2015.\n",
    "\n",
    "[2] - RuDSI: Word sense induction (WSI) dataset for Russian.\n",
    "\n",
    "[3] - “Byte-pair encoding tokenization - hugging face NLP course,” Huggingface.co. [Online]. Available: https://huggingface.co/learn/nlp-course/chapter6/5. [Accessed: 11-Feb-2024]."
   ]
  }
 ],
 "metadata": {
  "colab": {
   "provenance": []
  },
  "kernelspec": {
   "display_name": "Python 3 (ipykernel)",
   "language": "python",
   "name": "python3"
  },
  "language_info": {
   "codemirror_mode": {
    "name": "ipython",
    "version": 3
   },
   "file_extension": ".py",
   "mimetype": "text/x-python",
   "name": "python",
   "nbconvert_exporter": "python",
   "pygments_lexer": "ipython3",
   "version": "3.9.5"
  }
 },
 "nbformat": 4,
 "nbformat_minor": 1
}
